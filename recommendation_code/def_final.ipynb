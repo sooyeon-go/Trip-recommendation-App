{
 "cells": [
  {
   "cell_type": "code",
   "execution_count": 1,
   "metadata": {},
   "outputs": [],
   "source": [
    "#import tensorflow as tf\n",
    "import pandas as pd\n",
    "import numpy as np\n",
    "from sklearn.metrics.pairwise import cosine_similarity\n",
    "from sklearn.metrics import mean_squared_error"
   ]
  },
  {
   "cell_type": "code",
   "execution_count": 2,
   "metadata": {},
   "outputs": [],
   "source": [
    "def def_final(d1, d2, d3, d4, d5, d6, d7, d8):\n",
    "    data = pd.read_csv('data_fin_.csv',encoding = 'cp949')\n",
    "    user = pd.read_csv('user_data.csv',encoding = 'cp949')\n",
    "    user['rating'] = [d1, d2, d3, d4, d5, d6, d7, d8]\n",
    "    new = data[['userid','courseid','rating']]\n",
    "    user_new = user[['userid','courseid','rating']]\n",
    "    new = new.append(user_new)\n",
    "    data_matrix = new.pivot_table('rating', index = 'userid', columns = 'courseid')\n",
    "    data_matrix = data[['userid','course','rating']]\n",
    "    user_matrix = user[['userid','course','rating']]\n",
    "    data_matrix = data_matrix.append(user_matrix)\n",
    "    rating_matrix = data_matrix.pivot_table('rating', index = 'userid', columns = 'course')\n",
    "    rating_matrix = rating_matrix.fillna(0)\n",
    "    rating_matrix_T = rating_matrix.transpose()\n",
    "    item_sim = cosine_similarity(rating_matrix_T, rating_matrix_T)\n",
    "    item_sim_df = pd.DataFrame(data = item_sim, index = rating_matrix.columns, columns = rating_matrix.columns)\n",
    "    def predict_rating(rating_arr, item_sim_arr):\n",
    "        rating_pred = rating_arr.dot(item_sim_arr) / np.array([np.abs(item_sim_arr).sum(axis = 1)])\n",
    "        return rating_pred\n",
    "    rating_pred = predict_rating(rating_matrix.values, item_sim_df.values)\n",
    "    rating_pred_matrix = pd.DataFrame(data = rating_pred, index = rating_matrix.index, columns = rating_matrix.columns)\n",
    "    def get_mse(pred, actual):\n",
    "        pred = pred[actual.nonzero()].flatten() \n",
    "        actual = actual[actual.nonzero()].flatten()\n",
    "        return mean_squared_error(pred, actual)\n",
    "    def predict_rating_topsim(rating_arr, item_sim_arr, n = 20):\n",
    "        pred = np.zeros(rating_arr.shape) \n",
    "    \n",
    "        for col in range(rating_arr.shape[1]): \n",
    "            top_n_items = [np.argsort(item_sim_arr[:, col])[: -n-1 : -1]] \n",
    "            for row in range(rating_arr.shape[0]): \n",
    "                pred[row, col] = item_sim_arr[col, :][top_n_items].dot(rating_arr[row, :][top_n_items].T)\n",
    "                pred[row, col] /= np.sum(np.abs(item_sim_arr[col, :][top_n_items]))\n",
    "        return pred\n",
    "    rating_pred = predict_rating_topsim(rating_matrix.values, item_sim_df.values, n = 20)\n",
    "    rating_pred_matrix = pd.DataFrame(data = rating_pred, index = rating_matrix.index, columns = rating_matrix.columns)\n",
    "    user_rating_id = rating_matrix.loc[8, :]\n",
    "    def get_unseen_course1(rating_matrix, userid):\n",
    "        user_rating = rating_matrix.loc[userid, :] \n",
    "        already_go = user_rating[ user_rating > 0 ].index.tolist()\n",
    "        course_list = rating_matrix.columns.tolist()\n",
    "        un_list = [ course for course in course_list if course not in already_go ]\n",
    "        return un_list\n",
    "    def recomm_course_by_userid1(pred_df, userid, un_list, top_n):\n",
    "        recomm_course = pred_df.loc[userid, un_list].sort_values(ascending = False)[: top_n]\n",
    "        return recomm_course\n",
    "    un_list = get_unseen_course1(rating_matrix, 8)\n",
    "    recomm_course = recomm_course_by_userid1(rating_pred_matrix, 8, un_list, 30)\n",
    "    recomm_course = pd.DataFrame(data = recomm_course.values, index = recomm_course.index, columns = ['pred_score'])\n",
    "    def get_rmse(R, P, Q, non_zeros):\n",
    "        error = 0\n",
    "        full_pred_matrix = np.dot(P, Q.T) \n",
    "        x_non_zero_ind = [non_zero[0] for non_zero in non_zeros]\n",
    "        y_non_zero_ind = [non_zero[1] for non_zero in non_zeros]\n",
    "        R_non_zeros = R[x_non_zero_ind, y_non_zero_ind]\n",
    "        full_pred_matrix_non_zeros = full_pred_matrix[x_non_zero_ind, y_non_zero_ind]\n",
    "        mse = mean_squared_error(R_non_zeros, full_pred_matrix_non_zeros)\n",
    "        rmse = np.sqrt(mse)\n",
    "        return rmse\n",
    "    def matrix_factorization(R, K, steps, learning_rate, r_lambda):\n",
    "        num_users, num_items = R.shape\n",
    "        np.random.seed(1)\n",
    "        P = np.random.normal(scale = 1./K, size = (num_users, K))\n",
    "        Q = np.random.normal(scale = 1./K, size = (num_items, K))\n",
    "    \n",
    "        prev_rmse = 10000\n",
    "        break_count = 0\n",
    "    \n",
    "        non_zeros = [ (i, j, R[i,j]) for i in range(num_users) for j in range(num_items) if R[i, j] > 0]\n",
    "     \n",
    "        for step in range(steps):\n",
    "            for i, j, r in non_zeros:\n",
    "                eij = r - np.dot(P[i, :], Q[j, :].T)\n",
    "                P[i, :] = P[i, :] + learning_rate * (eij * Q[j, :] - r_lambda * P[i, :])\n",
    "                Q[j, :] = Q[j, :] + learning_rate * (eij * P[i, :] - r_lambda * Q[j, :])\n",
    "            rmse = get_rmse(R, P, Q, non_zeros)\n",
    "            #if(step % 10) == 0:\n",
    "                #print(\"### iteration step : \",step, \" rmse : \", rmse)\n",
    "        return P,Q\n",
    "    rating = new[['userid', 'courseid', 'rating']]\n",
    "    rating_matrix = rating.pivot_table('rating', index = 'userid', columns = 'courseid')\n",
    "    rating_matrix = data_matrix.pivot_table('rating', index = 'userid', columns = 'course')\n",
    "    P, Q = matrix_factorization(rating_matrix.values, 50, 100, 0.01, 0.01)\n",
    "    pred_matrix = np.dot(P, Q.T)\n",
    "    rating_pred_matrix = pd.DataFrame(data = pred_matrix, index = rating_matrix.index, columns = rating_matrix.columns)\n",
    "    def get_unseen_course2(rating_matrix, userid):\n",
    "        user_rating = rating_matrix.loc[userid, :]\n",
    "        already_go = user_rating[ user_rating > 0 ].index.tolist()\n",
    "        course_list = rating_matrix.columns.tolist()\n",
    "        un_list = [ course for course in course_list if course not in already_go ]\n",
    "        return un_list\n",
    "    def recomm_course_by_userid2(pred_df, userid, un_list, top_n):\n",
    "        recomm_course = pred_df.loc[userid, un_list].sort_values(ascending = False)[: top_n]\n",
    "        return recomm_course\n",
    "    un_list = get_unseen_course2(rating_matrix, 8)\n",
    "    matrix_recomm_course = recomm_course_by_userid2(rating_pred_matrix, 8, un_list, 30)\n",
    "    matrix_recomm_course = pd.DataFrame(data = matrix_recomm_course.values, index = matrix_recomm_course.index, columns = ['pred_score'])\n",
    "    course_df = data.drop(['userid', 'rating'], axis = 1)\n",
    "    user_df = user[['course','rating']]\n",
    "    inputId = course_df[course_df['course'].isin(user_df['course'].tolist())]\n",
    "    result = pd.merge(inputId, user_df)\n",
    "    result_df = result[['courseid', 'course', 'rating']]\n",
    "    result_detail = result[['specific', 'water', 'tree', 'ruins', 'eat', 'hotel', 'cafe', 'pet', 'spring', 'summer', 'fall', 'winter']]\n",
    "    userProfile = result_detail.transpose().dot(result_df['rating'])\n",
    "    courseTable = course_df.set_index(course_df['courseid'])\n",
    "    courseTable = courseTable[['specific', 'water', 'tree', 'ruins', 'eat', 'hotel', 'cafe', 'pet', 'spring', 'summer', 'fall', 'winter']]\n",
    "    recoTable_df = ((courseTable * userProfile).sum(axis = 1)) / (userProfile.sum())\n",
    "    recoTable_df = recoTable_df.sort_values(ascending = False)\n",
    "    rank = course_df.loc[course_df['courseid'].isin(recoTable_df.head(20).keys())]\n",
    "    rankId = data[data['course'].isin(rank['course'].tolist())]\n",
    "    final = pd.merge(rankId, rank)\n",
    "    fi_result = final[['courseid', 'course', 'rating']].sort_values('rating', ascending = False)\n",
    "    fi_result = fi_result.drop_duplicates('courseid', keep='first')\n",
    "    fi_result = fi_result.reset_index(drop = True)\n",
    "    #fi_result.to_csv(\"content_based.csv\")\n",
    "    recomm_course.to_csv(\"item_based.csv\")\n",
    "    matrix_recomm_course.to_csv(\"matrix_factorization.csv\")\n",
    "    item_based = pd.read_csv('item_based.csv', encoding = 'utf-8')\n",
    "    matrix_factorization = pd.read_csv('matrix_factorization.csv', encoding = 'utf-8')\n",
    "    dupli = item_based[item_based['course'].isin(matrix_factorization['course'].tolist())]\n",
    "    dupli = dupli.reset_index(drop = True)\n",
    "    return dupli, fi_result"
   ]
  },
  {
   "cell_type": "code",
   "execution_count": 3,
   "metadata": {
    "scrolled": true
   },
   "outputs": [
    {
     "name": "stderr",
     "output_type": "stream",
     "text": [
      "C:\\ProgramData\\Anaconda3\\lib\\site-packages\\ipykernel_launcher.py:32: FutureWarning: Using a non-tuple sequence for multidimensional indexing is deprecated; use `arr[tuple(seq)]` instead of `arr[seq]`. In the future this will be interpreted as an array index, `arr[np.array(seq)]`, which will result either in an error or a different result.\n",
      "C:\\ProgramData\\Anaconda3\\lib\\site-packages\\ipykernel_launcher.py:33: FutureWarning: Using a non-tuple sequence for multidimensional indexing is deprecated; use `arr[tuple(seq)]` instead of `arr[seq]`. In the future this will be interpreted as an array index, `arr[np.array(seq)]`, which will result either in an error or a different result.\n"
     ]
    }
   ],
   "source": [
    "dupli, fi_result = def_final(0.5, 1, 2, 3, 5, 7, 8, 10)"
   ]
  },
  {
   "cell_type": "code",
   "execution_count": 4,
   "metadata": {},
   "outputs": [
    {
     "data": {
      "text/plain": [
       "Series([], Name: course, dtype: object)"
      ]
     },
     "execution_count": 4,
     "metadata": {},
     "output_type": "execute_result"
    }
   ],
   "source": [
    "dupli.course # matrix_factorization & item_based "
   ]
  },
  {
   "cell_type": "code",
   "execution_count": 5,
   "metadata": {},
   "outputs": [
    {
     "data": {
      "text/plain": [
       "0                               부산남포동부산길거리음식,해운대더베이101\n",
       "1                               곡성씨엘로,가정역폐역,도림사계곡,단편카페\n",
       "2    군산은파호수공원,지린성,초원사진관,군산과자조합,카페199,경일철도마을,선유도해수욕장...\n",
       "3                      여수돌산공원,여수케이블카,오동도,향일암,카페작금,여진식당\n",
       "4               강릉해미가,오죽헌,경포해변,테라로사사천점,초당등불생등심,cafe106\n",
       "5                 단양도담상봉,석문,다누리아쿠아리움,구경시장,만천하스카이워크,잔도길\n",
       "6                 강릉경포해변,초당114,허균허난설헌기념공원,경포호,원조강릉교동반점\n",
       "7    군산일제강점기역사박물관,올드브릭카페,근대역사박물관,근대건축박물관,해양공원,작은떡시루...\n",
       "Name: course, dtype: object"
      ]
     },
     "execution_count": 5,
     "metadata": {},
     "output_type": "execute_result"
    }
   ],
   "source": [
    "fi_result.course #content_based 결과"
   ]
  },
  {
   "cell_type": "code",
   "execution_count": null,
   "metadata": {},
   "outputs": [],
   "source": []
  }
 ],
 "metadata": {
  "kernelspec": {
   "display_name": "Python 3",
   "language": "python",
   "name": "python3"
  },
  "language_info": {
   "codemirror_mode": {
    "name": "ipython",
    "version": 3
   },
   "file_extension": ".py",
   "mimetype": "text/x-python",
   "name": "python",
   "nbconvert_exporter": "python",
   "pygments_lexer": "ipython3",
   "version": "3.7.4"
  }
 },
 "nbformat": 4,
 "nbformat_minor": 2
}
